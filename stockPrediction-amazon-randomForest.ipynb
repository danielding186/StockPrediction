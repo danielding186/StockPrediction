{
 "cells": [
  {
   "cell_type": "markdown",
   "metadata": {
    "collapsed": true
   },
   "source": [
    "# Get data from Yahoo finance\n",
    "Read financial data and save to the local file."
   ]
  },
  {
   "cell_type": "code",
   "execution_count": 1,
   "metadata": {
    "collapsed": false
   },
   "outputs": [],
   "source": [
    "from pandas_datareader import data\n",
    "import matplotlib.pyplot as plt\n",
    "import pandas as pd\n",
    "from functools import reduce\n",
    "\n",
    "def getStockData():\n",
    "    tickers = []\n",
    "\n",
    "    tickers.append('AMZN')\n",
    "\n",
    "    # indexs\n",
    "    tickers.extend(['^DJI', '^GSPC', '^NDX'])\n",
    "    \n",
    "    # Treasury Yield\n",
    "    tickers.extend(['^IRX', '^FVX', '^TNX', '^TYX'])\n",
    "\n",
    "    # other companies\n",
    "    tickers.extend(['AAPL', 'FB', 'GOOG', 'NFLX', 'EBAY', 'CRM', 'MSFT', 'WMT'])\n",
    "    \n",
    "    \n",
    "    # other countries index\n",
    "    tickers.extend(['000001.SS', '^HSI', '^N225', '^FCHI', '^GDAXI',  '^BSESN'])\n",
    "\n",
    "    start_date = '2014-1-1'\n",
    "    end_date = '2018-12-31'\n",
    "\n",
    "    frames = []\n",
    "    for ticker in tickers:\n",
    "        stock_data = data.DataReader(ticker, 'yahoo', start_date, end_date)\n",
    "        stock_data = stock_data.rename(lambda s: (s.lower() + '-' + ticker).replace(' ', '-'), axis='columns')\n",
    "        frames.append(stock_data)\n",
    "\n",
    "    df_final = reduce(lambda left,right: left.join(right), frames)\n",
    "    \n",
    "    df_final.to_csv('stockData.csv')\n",
    "    \n",
    "#getStockData()"
   ]
  },
  {
   "cell_type": "markdown",
   "metadata": {},
   "source": [
    "# Process the Data\n",
    "Add year, month, week, day & date related information"
   ]
  },
  {
   "cell_type": "code",
   "execution_count": 2,
   "metadata": {
    "collapsed": false
   },
   "outputs": [
    {
     "name": "stdout",
     "output_type": "stream",
     "text": [
      "data shape: (1258, 135)\n"
     ]
    },
    {
     "data": {
      "text/html": [
       "<div>\n",
       "<style scoped>\n",
       "    .dataframe tbody tr th:only-of-type {\n",
       "        vertical-align: middle;\n",
       "    }\n",
       "\n",
       "    .dataframe tbody tr th {\n",
       "        vertical-align: top;\n",
       "    }\n",
       "\n",
       "    .dataframe thead th {\n",
       "        text-align: right;\n",
       "    }\n",
       "</style>\n",
       "<table border=\"1\" class=\"dataframe\">\n",
       "  <thead>\n",
       "    <tr style=\"text-align: right;\">\n",
       "      <th></th>\n",
       "      <th>volume-AMZN</th>\n",
       "      <th>adj-close-AMZN</th>\n",
       "      <th>high-^DJI</th>\n",
       "      <th>low-^DJI</th>\n",
       "      <th>open-^DJI</th>\n",
       "      <th>close-^DJI</th>\n",
       "      <th>volume-^DJI</th>\n",
       "      <th>adj-close-^DJI</th>\n",
       "      <th>high-^GSPC</th>\n",
       "      <th>low-^GSPC</th>\n",
       "      <th>...</th>\n",
       "      <th>Month</th>\n",
       "      <th>Week</th>\n",
       "      <th>Day</th>\n",
       "      <th>Dayofweek</th>\n",
       "      <th>Dayofyear</th>\n",
       "      <th>Is_month_end</th>\n",
       "      <th>Is_month_start</th>\n",
       "      <th>Is_quarter_end</th>\n",
       "      <th>Is_quarter_start</th>\n",
       "      <th>Is_year_end</th>\n",
       "    </tr>\n",
       "  </thead>\n",
       "  <tbody>\n",
       "    <tr>\n",
       "      <th>0</th>\n",
       "      <td>2137800</td>\n",
       "      <td>397.970001</td>\n",
       "      <td>16573.070312</td>\n",
       "      <td>16416.490234</td>\n",
       "      <td>16572.169922</td>\n",
       "      <td>16441.349609</td>\n",
       "      <td>80960000</td>\n",
       "      <td>16441.349609</td>\n",
       "      <td>1845.859985</td>\n",
       "      <td>1827.739990</td>\n",
       "      <td>...</td>\n",
       "      <td>1</td>\n",
       "      <td>1</td>\n",
       "      <td>2</td>\n",
       "      <td>3</td>\n",
       "      <td>2</td>\n",
       "      <td>False</td>\n",
       "      <td>False</td>\n",
       "      <td>False</td>\n",
       "      <td>False</td>\n",
       "      <td>False</td>\n",
       "    </tr>\n",
       "    <tr>\n",
       "      <th>1</th>\n",
       "      <td>2210200</td>\n",
       "      <td>396.440002</td>\n",
       "      <td>16518.740234</td>\n",
       "      <td>16439.300781</td>\n",
       "      <td>16456.890625</td>\n",
       "      <td>16469.990234</td>\n",
       "      <td>72770000</td>\n",
       "      <td>16469.990234</td>\n",
       "      <td>1838.239990</td>\n",
       "      <td>1829.130005</td>\n",
       "      <td>...</td>\n",
       "      <td>1</td>\n",
       "      <td>1</td>\n",
       "      <td>3</td>\n",
       "      <td>4</td>\n",
       "      <td>3</td>\n",
       "      <td>False</td>\n",
       "      <td>False</td>\n",
       "      <td>False</td>\n",
       "      <td>False</td>\n",
       "      <td>False</td>\n",
       "    </tr>\n",
       "    <tr>\n",
       "      <th>2</th>\n",
       "      <td>3170600</td>\n",
       "      <td>393.630005</td>\n",
       "      <td>16532.990234</td>\n",
       "      <td>16405.519531</td>\n",
       "      <td>16474.039062</td>\n",
       "      <td>16425.099609</td>\n",
       "      <td>89380000</td>\n",
       "      <td>16425.099609</td>\n",
       "      <td>1837.160034</td>\n",
       "      <td>1823.729980</td>\n",
       "      <td>...</td>\n",
       "      <td>1</td>\n",
       "      <td>2</td>\n",
       "      <td>6</td>\n",
       "      <td>0</td>\n",
       "      <td>6</td>\n",
       "      <td>False</td>\n",
       "      <td>False</td>\n",
       "      <td>False</td>\n",
       "      <td>False</td>\n",
       "      <td>False</td>\n",
       "    </tr>\n",
       "    <tr>\n",
       "      <th>3</th>\n",
       "      <td>1916000</td>\n",
       "      <td>398.029999</td>\n",
       "      <td>16562.320312</td>\n",
       "      <td>16429.019531</td>\n",
       "      <td>16429.019531</td>\n",
       "      <td>16530.939453</td>\n",
       "      <td>81270000</td>\n",
       "      <td>16530.939453</td>\n",
       "      <td>1840.099976</td>\n",
       "      <td>1828.709961</td>\n",
       "      <td>...</td>\n",
       "      <td>1</td>\n",
       "      <td>2</td>\n",
       "      <td>7</td>\n",
       "      <td>1</td>\n",
       "      <td>7</td>\n",
       "      <td>False</td>\n",
       "      <td>False</td>\n",
       "      <td>False</td>\n",
       "      <td>False</td>\n",
       "      <td>False</td>\n",
       "    </tr>\n",
       "    <tr>\n",
       "      <th>4</th>\n",
       "      <td>2316500</td>\n",
       "      <td>401.920013</td>\n",
       "      <td>16528.880859</td>\n",
       "      <td>16416.689453</td>\n",
       "      <td>16527.660156</td>\n",
       "      <td>16462.740234</td>\n",
       "      <td>103260000</td>\n",
       "      <td>16462.740234</td>\n",
       "      <td>1840.020020</td>\n",
       "      <td>1831.400024</td>\n",
       "      <td>...</td>\n",
       "      <td>1</td>\n",
       "      <td>2</td>\n",
       "      <td>8</td>\n",
       "      <td>2</td>\n",
       "      <td>8</td>\n",
       "      <td>False</td>\n",
       "      <td>False</td>\n",
       "      <td>False</td>\n",
       "      <td>False</td>\n",
       "      <td>False</td>\n",
       "    </tr>\n",
       "  </tbody>\n",
       "</table>\n",
       "<p>5 rows × 135 columns</p>\n",
       "</div>"
      ],
      "text/plain": [
       "   volume-AMZN  adj-close-AMZN     high-^DJI      low-^DJI     open-^DJI  \\\n",
       "0      2137800      397.970001  16573.070312  16416.490234  16572.169922   \n",
       "1      2210200      396.440002  16518.740234  16439.300781  16456.890625   \n",
       "2      3170600      393.630005  16532.990234  16405.519531  16474.039062   \n",
       "3      1916000      398.029999  16562.320312  16429.019531  16429.019531   \n",
       "4      2316500      401.920013  16528.880859  16416.689453  16527.660156   \n",
       "\n",
       "     close-^DJI  volume-^DJI  adj-close-^DJI   high-^GSPC    low-^GSPC  \\\n",
       "0  16441.349609     80960000    16441.349609  1845.859985  1827.739990   \n",
       "1  16469.990234     72770000    16469.990234  1838.239990  1829.130005   \n",
       "2  16425.099609     89380000    16425.099609  1837.160034  1823.729980   \n",
       "3  16530.939453     81270000    16530.939453  1840.099976  1828.709961   \n",
       "4  16462.740234    103260000    16462.740234  1840.020020  1831.400024   \n",
       "\n",
       "      ...       Month  Week  Day  Dayofweek  Dayofyear  Is_month_end  \\\n",
       "0     ...           1     1    2          3          2         False   \n",
       "1     ...           1     1    3          4          3         False   \n",
       "2     ...           1     2    6          0          6         False   \n",
       "3     ...           1     2    7          1          7         False   \n",
       "4     ...           1     2    8          2          8         False   \n",
       "\n",
       "   Is_month_start  Is_quarter_end  Is_quarter_start  Is_year_end  \n",
       "0           False           False             False        False  \n",
       "1           False           False             False        False  \n",
       "2           False           False             False        False  \n",
       "3           False           False             False        False  \n",
       "4           False           False             False        False  \n",
       "\n",
       "[5 rows x 135 columns]"
      ]
     },
     "execution_count": 2,
     "metadata": {},
     "output_type": "execute_result"
    }
   ],
   "source": [
    "#import packages\n",
    "import pandas as pd\n",
    "import numpy as np\n",
    "\n",
    "#to plot within notebook\n",
    "import matplotlib.pyplot as plt\n",
    "%matplotlib inline\n",
    "\n",
    "#setting figure size\n",
    "from matplotlib.pylab import rcParams\n",
    "rcParams['figure.figsize'] = 20,10\n",
    "\n",
    "#for normalizing data\n",
    "from sklearn.preprocessing import MinMaxScaler\n",
    "scaler = MinMaxScaler(feature_range=(0, 1))\n",
    "\n",
    "#read the file\n",
    "df = pd.read_csv('stockData.csv')\n",
    "\n",
    "df['Date'] = pd.to_datetime(df.Date,format='%Y-%m-%d')\n",
    "data = df.sort_values(ascending=True, by='Date')\n",
    "\n",
    "add_datepart = True\n",
    "\n",
    "import re\n",
    "def add_datepart(df, fldname, drop=True, time=False):\n",
    "    \"Helper function that adds columns relevant to a date.\"\n",
    "    fld = df[fldname]\n",
    "    fld_dtype = fld.dtype\n",
    "    if isinstance(fld_dtype, pd.core.dtypes.dtypes.DatetimeTZDtype):\n",
    "        fld_dtype = np.datetime64\n",
    "\n",
    "    if not np.issubdtype(fld_dtype, np.datetime64):\n",
    "        df[fldname] = fld = pd.to_datetime(fld, infer_datetime_format=True)\n",
    "    targ_pre = re.sub('[Dd]ate$', '', fldname)\n",
    "    attr = ['Year', 'Month', 'Week', 'Day', 'Dayofweek', 'Dayofyear',\n",
    "            'Is_month_end', 'Is_month_start', 'Is_quarter_end', 'Is_quarter_start', 'Is_year_end', 'Is_year_start']\n",
    "    if time: attr = attr + ['Hour', 'Minute', 'Second']\n",
    "    for n in attr: df[targ_pre + n] = getattr(fld.dt, n.lower())\n",
    "    if drop: df.drop(fldname, axis=1, inplace=True)\n",
    "\n",
    "# Add year, month, week, day & date related information\n",
    "if add_datepart:\n",
    "    add_datepart(data, 'Date')\n",
    "else:\n",
    "    data.drop('Date', axis=1, inplace=True)\n",
    "        \n",
    "train_len = int(len(data) * 0.85)\n",
    "\n",
    "# drop amzn related data\n",
    "dropColumns = ['high-AMZN', 'low-AMZN', 'open-AMZN', 'close-AMZN']\n",
    "for column in dropColumns:\n",
    "    data.drop(column, axis=1, inplace=True)\n",
    "\n",
    "# fill the na using previous rows\n",
    "data.fillna(method='ffill', inplace=True)\n",
    "# in case the first row data is invalid\n",
    "data.fillna(method='bfill', inplace=True)\n",
    "\n",
    "# drop all zero data\n",
    "data = data.loc[:, (data != 0).any(axis=0)]\n",
    "print ('data shape:', data.shape)\n",
    "data.head()"
   ]
  },
  {
   "cell_type": "code",
   "execution_count": 3,
   "metadata": {
    "collapsed": false
   },
   "outputs": [
    {
     "data": {
      "text/plain": [
       "['volume-AMZN',\n",
       " 'adj-close-AMZN',\n",
       " 'high-^DJI',\n",
       " 'low-^DJI',\n",
       " 'open-^DJI',\n",
       " 'close-^DJI',\n",
       " 'volume-^DJI',\n",
       " 'adj-close-^DJI',\n",
       " 'high-^GSPC',\n",
       " 'low-^GSPC',\n",
       " 'open-^GSPC',\n",
       " 'close-^GSPC',\n",
       " 'volume-^GSPC',\n",
       " 'adj-close-^GSPC',\n",
       " 'high-^NDX',\n",
       " 'low-^NDX',\n",
       " 'open-^NDX',\n",
       " 'close-^NDX',\n",
       " 'volume-^NDX',\n",
       " 'adj-close-^NDX',\n",
       " 'high-^IRX',\n",
       " 'low-^IRX',\n",
       " 'open-^IRX',\n",
       " 'close-^IRX',\n",
       " 'adj-close-^IRX',\n",
       " 'high-^FVX',\n",
       " 'low-^FVX',\n",
       " 'open-^FVX',\n",
       " 'close-^FVX',\n",
       " 'adj-close-^FVX',\n",
       " 'high-^TNX',\n",
       " 'low-^TNX',\n",
       " 'open-^TNX',\n",
       " 'close-^TNX',\n",
       " 'adj-close-^TNX',\n",
       " 'high-^TYX',\n",
       " 'low-^TYX',\n",
       " 'open-^TYX',\n",
       " 'close-^TYX',\n",
       " 'adj-close-^TYX',\n",
       " 'high-AAPL',\n",
       " 'low-AAPL',\n",
       " 'open-AAPL',\n",
       " 'close-AAPL',\n",
       " 'volume-AAPL',\n",
       " 'adj-close-AAPL',\n",
       " 'high-FB',\n",
       " 'low-FB',\n",
       " 'open-FB',\n",
       " 'close-FB',\n",
       " 'volume-FB',\n",
       " 'adj-close-FB',\n",
       " 'high-GOOG',\n",
       " 'low-GOOG',\n",
       " 'open-GOOG',\n",
       " 'close-GOOG',\n",
       " 'volume-GOOG',\n",
       " 'adj-close-GOOG',\n",
       " 'high-NFLX',\n",
       " 'low-NFLX',\n",
       " 'open-NFLX',\n",
       " 'close-NFLX',\n",
       " 'volume-NFLX',\n",
       " 'adj-close-NFLX',\n",
       " 'high-EBAY',\n",
       " 'low-EBAY',\n",
       " 'open-EBAY',\n",
       " 'close-EBAY',\n",
       " 'volume-EBAY',\n",
       " 'adj-close-EBAY',\n",
       " 'high-CRM',\n",
       " 'low-CRM',\n",
       " 'open-CRM',\n",
       " 'close-CRM',\n",
       " 'volume-CRM',\n",
       " 'adj-close-CRM',\n",
       " 'high-MSFT',\n",
       " 'low-MSFT',\n",
       " 'open-MSFT',\n",
       " 'close-MSFT',\n",
       " 'volume-MSFT',\n",
       " 'adj-close-MSFT',\n",
       " 'high-WMT',\n",
       " 'low-WMT',\n",
       " 'open-WMT',\n",
       " 'close-WMT',\n",
       " 'volume-WMT',\n",
       " 'adj-close-WMT',\n",
       " 'high-000001.SS',\n",
       " 'low-000001.SS',\n",
       " 'open-000001.SS',\n",
       " 'close-000001.SS',\n",
       " 'volume-000001.SS',\n",
       " 'adj-close-000001.SS',\n",
       " 'high-^HSI',\n",
       " 'low-^HSI',\n",
       " 'open-^HSI',\n",
       " 'close-^HSI',\n",
       " 'volume-^HSI',\n",
       " 'adj-close-^HSI',\n",
       " 'high-^N225',\n",
       " 'low-^N225',\n",
       " 'open-^N225',\n",
       " 'close-^N225',\n",
       " 'volume-^N225',\n",
       " 'adj-close-^N225',\n",
       " 'high-^FCHI',\n",
       " 'low-^FCHI',\n",
       " 'open-^FCHI',\n",
       " 'close-^FCHI',\n",
       " 'volume-^FCHI',\n",
       " 'adj-close-^FCHI',\n",
       " 'high-^GDAXI',\n",
       " 'low-^GDAXI',\n",
       " 'open-^GDAXI',\n",
       " 'close-^GDAXI',\n",
       " 'volume-^GDAXI',\n",
       " 'adj-close-^GDAXI',\n",
       " 'high-^BSESN',\n",
       " 'low-^BSESN',\n",
       " 'open-^BSESN',\n",
       " 'close-^BSESN',\n",
       " 'volume-^BSESN',\n",
       " 'adj-close-^BSESN',\n",
       " 'Year',\n",
       " 'Month',\n",
       " 'Week',\n",
       " 'Day',\n",
       " 'Dayofweek',\n",
       " 'Dayofyear',\n",
       " 'Is_month_end',\n",
       " 'Is_month_start',\n",
       " 'Is_quarter_end',\n",
       " 'Is_quarter_start',\n",
       " 'Is_year_end']"
      ]
     },
     "execution_count": 3,
     "metadata": {},
     "output_type": "execute_result"
    }
   ],
   "source": [
    "data.columns.values.tolist()"
   ]
  },
  {
   "cell_type": "markdown",
   "metadata": {},
   "source": [
    "# Scale data "
   ]
  },
  {
   "cell_type": "code",
   "execution_count": 4,
   "metadata": {
    "collapsed": false
   },
   "outputs": [
    {
     "name": "stdout",
     "output_type": "stream",
     "text": [
      "        0         1         2         3         4         5         6    \\\n",
      "0  0.045899  0.098295  0.096966  0.106967  0.095034  0.051826  0.095034   \n",
      "1  0.049079  0.093417  0.099022  0.096684  0.097581  0.041374  0.097581   \n",
      "\n",
      "        7         8         9   ...   124  125       126   127       128  129  \\\n",
      "0  0.080630  0.080660  0.090831 ...   0.0  0.0  0.033333  0.75  0.000000  0.0   \n",
      "1  0.073808  0.081908  0.079570 ...   0.0  0.0  0.066667  1.00  0.002755  0.0   \n",
      "\n",
      "   130  131  132  133  \n",
      "0  0.0  0.0  0.0  0.0  \n",
      "1  0.0  0.0  0.0  0.0  \n",
      "\n",
      "[2 rows x 134 columns]\n"
     ]
    },
    {
     "name": "stderr",
     "output_type": "stream",
     "text": [
      "/Users/yanjingding/anaconda/lib/python3.6/site-packages/sklearn/preprocessing/data.py:323: DataConversionWarning: Data with input dtype bool, int64, float64 were all converted to float64 by MinMaxScaler.\n",
      "  return self.partial_fit(X, y)\n",
      "/Users/yanjingding/anaconda/lib/python3.6/site-packages/sklearn/preprocessing/data.py:323: DataConversionWarning: Data with input dtype bool, int64, float64 were all converted to float64 by MinMaxScaler.\n",
      "  return self.partial_fit(X, y)\n"
     ]
    }
   ],
   "source": [
    "train = data[:train_len]\n",
    "valid = data[train_len:]\n",
    "\n",
    "x_train = train.drop('adj-close-AMZN', axis=1)\n",
    "y_train = train['adj-close-AMZN']\n",
    "x_valid = valid.drop('adj-close-AMZN', axis=1)\n",
    "y_valid = valid['adj-close-AMZN']\n",
    "\n",
    "#scaling data\n",
    "x_train_scaled = scaler.fit_transform(x_train)\n",
    "x_train = pd.DataFrame(x_train_scaled)\n",
    "x_valid_scaled = scaler.fit_transform(x_valid)\n",
    "x_valid = pd.DataFrame(x_valid_scaled)\n",
    "\n",
    "\n",
    "print(x_train[0:2])"
   ]
  },
  {
   "cell_type": "code",
   "execution_count": 5,
   "metadata": {
    "collapsed": true
   },
   "outputs": [],
   "source": [
    "# Use Random Forest Regressor"
   ]
  },
  {
   "cell_type": "code",
   "execution_count": 15,
   "metadata": {
    "collapsed": false
   },
   "outputs": [
    {
     "data": {
      "text/plain": [
       "RandomForestRegressor(bootstrap=True, criterion='mse', max_depth=None,\n",
       "           max_features='auto', max_leaf_nodes=None,\n",
       "           min_impurity_decrease=0.0, min_impurity_split=None,\n",
       "           min_samples_leaf=1, min_samples_split=2,\n",
       "           min_weight_fraction_leaf=0.0, n_estimators=10, n_jobs=-1,\n",
       "           oob_score=False, random_state=None, verbose=0, warm_start=False)"
      ]
     },
     "execution_count": 15,
     "metadata": {},
     "output_type": "execute_result"
    }
   ],
   "source": [
    "from sklearn.ensemble import RandomForestRegressor\n",
    "from sklearn.metrics import accuracy_score,f1_score\n",
    "\n",
    "model = RandomForestRegressor(n_jobs = -1, n_estimators = 10,\n",
    "                                 bootstrap = True)\n",
    "model.fit(x_train,y_train)\n"
   ]
  },
  {
   "cell_type": "code",
   "execution_count": 16,
   "metadata": {
    "collapsed": false
   },
   "outputs": [
    {
     "data": {
      "text/plain": [
       "865.0577132421029"
      ]
     },
     "execution_count": 16,
     "metadata": {},
     "output_type": "execute_result"
    }
   ],
   "source": [
    "preds = model.predict(x_valid)\n",
    "rms=np.sqrt(np.mean(np.power((np.array(y_valid)-np.array(preds)),2)))\n",
    "rms"
   ]
  },
  {
   "cell_type": "code",
   "execution_count": 17,
   "metadata": {
    "collapsed": false
   },
   "outputs": [
    {
     "name": "stderr",
     "output_type": "stream",
     "text": [
      "/Users/yanjingding/anaconda/lib/python3.6/site-packages/ipykernel/__main__.py:2: SettingWithCopyWarning: \n",
      "A value is trying to be set on a copy of a slice from a DataFrame.\n",
      "Try using .loc[row_indexer,col_indexer] = value instead\n",
      "\n",
      "See the caveats in the documentation: http://pandas.pydata.org/pandas-docs/stable/indexing.html#indexing-view-versus-copy\n",
      "  from ipykernel import kernelapp as app\n",
      "/Users/yanjingding/anaconda/lib/python3.6/site-packages/ipykernel/__main__.py:3: SettingWithCopyWarning: \n",
      "A value is trying to be set on a copy of a slice from a DataFrame.\n",
      "Try using .loc[row_indexer,col_indexer] = value instead\n",
      "\n",
      "See the caveats in the documentation: http://pandas.pydata.org/pandas-docs/stable/indexing.html#indexing-view-versus-copy\n",
      "  app.launch_new_instance()\n"
     ]
    },
    {
     "data": {
      "text/plain": [
       "[<matplotlib.lines.Line2D at 0x1a1aafcf28>]"
      ]
     },
     "execution_count": 17,
     "metadata": {},
     "output_type": "execute_result"
    },
    {
     "data": {
      "image/png": "[encoded data removed]",
      "text/plain": [
       "<matplotlib.figure.Figure at 0x1a1ac73a20>"
      ]
     },
     "metadata": {},
     "output_type": "display_data"
    }
   ],
   "source": [
    "#plot\n",
    "valid['Predictions'] = 0\n",
    "valid['Predictions'] = preds\n",
    "plt.plot(valid[['adj-close-AMZN', 'Predictions']])\n",
    "plt.plot(train['adj-close-AMZN'])"
   ]
  },
  {
   "cell_type": "markdown",
   "metadata": {},
   "source": [
    "# Use Grid search to tune RF hyperparameter"
   ]
  },
  {
   "cell_type": "code",
   "execution_count": 18,
   "metadata": {
    "collapsed": false
   },
   "outputs": [
    {
     "name": "stderr",
     "output_type": "stream",
     "text": [
      "/Users/yanjingding/anaconda/lib/python3.6/site-packages/sklearn/model_selection/_search.py:841: DeprecationWarning: The default of the `iid` parameter will change from True to False in version 0.22 and will be removed in 0.24. This will change numeric results when test-set sizes are unequal.\n",
      "  DeprecationWarning)\n"
     ]
    },
    {
     "name": "stdout",
     "output_type": "stream",
     "text": [
      "Best score: -0.712\n",
      "Best parameters set:\n",
      "\tmax_depth: 55\n",
      "\tmin_samples_leaf: 4\n",
      "\tn_estimators: 10\n"
     ]
    }
   ],
   "source": [
    "from sklearn import svm\n",
    "from sklearn.model_selection import GridSearchCV\n",
    "\n",
    "parameters = {'n_estimators':range(10,20,5), 'max_depth':range(5,100,10), 'min_samples_leaf':range(1,5)}\n",
    "grid_search = GridSearchCV(RandomForestRegressor(), parameters, cv=5)\n",
    "grid_search.fit(x_train, y_train)\n",
    "\n",
    "print(\"Best score: %0.3f\" % grid_search.best_score_)\n",
    "print(\"Best parameters set:\")\n",
    "best_parameters = grid_search.best_estimator_.get_params()\n",
    "for param_name in sorted(parameters.keys()):\n",
    "    print(\"\\t%s: %r\" % (param_name, best_parameters[param_name])) "
   ]
  },
  {
   "cell_type": "code",
   "execution_count": null,
   "metadata": {
    "collapsed": true
   },
   "outputs": [],
   "source": []
  },
  {
   "cell_type": "code",
   "execution_count": null,
   "metadata": {
    "collapsed": true
   },
   "outputs": [],
   "source": []
  }
 ],
 "metadata": {
  "kernelspec": {
   "display_name": "Python 3",
   "language": "python",
   "name": "python3"
  },
  "language_info": {
   "codemirror_mode": {
    "name": "ipython",
    "version": 3
   },
   "file_extension": ".py",
   "mimetype": "text/x-python",
   "name": "python",
   "nbconvert_exporter": "python",
   "pygments_lexer": "ipython3",
   "version": "3.6.8"
  }
 },
 "nbformat": 4,
 "nbformat_minor": 2
}
